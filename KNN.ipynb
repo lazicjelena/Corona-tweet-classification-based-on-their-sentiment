{
  "nbformat": 4,
  "nbformat_minor": 0,
  "metadata": {
    "colab": {
      "name": "KNN.ipynb",
      "provenance": [],
      "collapsed_sections": []
    },
    "kernelspec": {
      "name": "python3",
      "display_name": "Python 3"
    },
    "language_info": {
      "name": "python"
    }
  },
  "cells": [
    {
      "cell_type": "code",
      "source": [
        "import nltk                                # Python library for NLP\n",
        "import matplotlib.pyplot as plt            # library for visualization\n",
        "import pandas as pd\n",
        "import numpy as np\n",
        "import re\n",
        "from sklearn.metrics import confusion_matrix, classification_report\n",
        "from sklearn.neighbors import KNeighborsClassifier\n",
        "import random"
      ],
      "metadata": {
        "id": "5YAad9hcuVFN"
      },
      "execution_count": null,
      "outputs": []
    },
    {
      "cell_type": "code",
      "source": [
        "train_tweets = pd.read_csv('/content/drive/MyDrive/train_lsh.csv', encoding='latin-1')\n",
        "train_tweets = train_tweets.to_numpy()\n",
        "train_sentiments = pd.read_csv('/content/drive/MyDrive/train_token.csv', encoding='latin-1')\n",
        "train_sentiments = train_sentiments[~train_sentiments.iloc[:]['TweetTokens'].isnull()]\n",
        "train_sentiments = train_sentiments[\"Sentiment\"].map({\"Extremely Positive\":0, \"Positive\": 1,\"Neutral\": 2,\"Negative\": 3,\"Extremely Negative\": 4})\n",
        "train_sentiments = train_sentiments.values\n",
        "\n",
        "train_sentiments  = train_sentiments[~np.isnan(train_tweets).any(axis=1)]\n",
        "train_tweets = train_tweets [~np.isnan(train_tweets).any(axis=1)]\n",
        "for i in range(0,train_tweets.shape[1]):\n",
        "    train_tweets[:,i] = (train_tweets[:,i] - np.nanmean(train_tweets[:,i]))/ np.nanvar(train_tweets[:,i])"
      ],
      "metadata": {
        "id": "Trb7uI6Bukvf"
      },
      "execution_count": null,
      "outputs": []
    },
    {
      "cell_type": "code",
      "source": [
        "test_tweets = pd.read_csv('/content/drive/MyDrive/test_lsh.csv', encoding='latin-1')\n",
        "test_tweets = test_tweets.to_numpy()\n",
        "test_sentiments = pd.read_csv('/content/drive/MyDrive/test_token.csv', encoding='latin-1')\n",
        "test_sentiments = test_sentiments[~test_sentiments.iloc[:]['TweetTokens'].isnull()]\n",
        "test_sentiments = test_sentiments[\"Sentiment\"].map({\"Extremely Positive\":0, \"Positive\": 1,\"Neutral\": 2,\"Negative\": 3,\"Extremely Negative\": 4})\n",
        "test_sentiments = test_sentiments.values\n",
        "\n",
        "test_sentiments = test_sentiments[~np.isnan(test_tweets).any(axis=1)]\n",
        "test_tweets = test_tweets[~np.isnan(test_tweets).any(axis=1)]\n",
        "for i in range(0,test_tweets.shape[1]):\n",
        " test_tweets[:,i] = (test_tweets[:,i] - np.nanmean(test_tweets[:,i]))/ np.nanvar(test_tweets[:,i])\n"
      ],
      "metadata": {
        "id": "ByQ576J1ecmr"
      },
      "execution_count": null,
      "outputs": []
    },
    {
      "cell_type": "code",
      "source": [
        "knn = KNeighborsClassifier(n_neighbors = 20, metric='cosine')\n",
        "knn.fit(train_tweets, train_sentiments)"
      ],
      "metadata": {
        "colab": {
          "base_uri": "https://localhost:8080/"
        },
        "id": "6j6JfM0bpivQ",
        "outputId": "848d34dd-9de5-43e0-9d0f-41591c96d74f"
      },
      "execution_count": null,
      "outputs": [
        {
          "output_type": "execute_result",
          "data": {
            "text/plain": [
              "KNeighborsClassifier(metric='cosine', n_neighbors=20)"
            ]
          },
          "metadata": {},
          "execution_count": 4
        }
      ]
    },
    {
      "cell_type": "code",
      "source": [
        "y_pred_train = knn.predict(train_tweets)\n",
        "y_pred_test = knn.predict(test_tweets)"
      ],
      "metadata": {
        "id": "2MYkBhp_wmG4"
      },
      "execution_count": null,
      "outputs": []
    },
    {
      "cell_type": "code",
      "source": [
        "m_train = confusion_matrix(train_sentiments,np.round(y_pred_train))\n",
        "print('Tacnost na trening podacima: ')\n",
        "print(sum(m_train[i][i] for i in range(len(m_train))) / sum(sum(m_train))*100)\n",
        "\n",
        "m = confusion_matrix(test_sentiments,np.round(y_pred_test))\n",
        "print('Tacnost na test podacima: ')\n",
        "print(sum(m[i][i] for i in range(len(m))) / sum(sum(m))*100)\n",
        "print('Konfuziona matrica na test podacima: ')\n",
        "m"
      ],
      "metadata": {
        "colab": {
          "base_uri": "https://localhost:8080/"
        },
        "id": "DYrxbx7lirZz",
        "outputId": "62127fd4-76e7-46db-d868-fe69637cfc8b"
      },
      "execution_count": null,
      "outputs": [
        {
          "output_type": "stream",
          "name": "stdout",
          "text": [
            "Tacnost na trening podacima: \n",
            "47.00600987858585\n",
            "Tacnost na test podacima: \n",
            "36.53136531365313\n",
            "Konfuziona matrica na test podacima: \n"
          ]
        },
        {
          "output_type": "execute_result",
          "data": {
            "text/plain": [
              "array([[213, 206,  60,  84,  36],\n",
              "       [155, 356, 188, 179,  69],\n",
              "       [ 31, 127, 353,  88,  16],\n",
              "       [ 81, 315, 209, 298, 138],\n",
              "       [ 40, 134,  62, 190, 166]])"
            ]
          },
          "metadata": {},
          "execution_count": 6
        }
      ]
    },
    {
      "cell_type": "code",
      "source": [
        "#print(classification_report(test_sentiments, y_pred))"
      ],
      "metadata": {
        "id": "W-r54rC32Ztw"
      },
      "execution_count": null,
      "outputs": []
    },
    {
      "cell_type": "code",
      "source": [
        "#y = pd.read_csv('/content/drive/MyDrive/results.csv', encoding='latin-1')"
      ],
      "metadata": {
        "id": "G2Vdq8Ax5Vj0"
      },
      "execution_count": null,
      "outputs": []
    },
    {
      "cell_type": "code",
      "source": [
        "#missclassified = test_tweets[test_sentiments!=y_pred]"
      ],
      "metadata": {
        "id": "aTOeyqN85CcO"
      },
      "execution_count": null,
      "outputs": []
    },
    {
      "cell_type": "code",
      "source": [
        "#indeks = 115\n",
        "\n",
        "#print(missclassified.iloc[indeks]['OriginalTweet'])\n",
        "#print(\"\")\n",
        "\n",
        "#print(f\"Sentiment {missclassified.iloc[indeks]['Sentiment']}\")\n",
        "#print(f\"Prediction {y_pred[missclassified.iloc[indeks]['Unnamed: 0']]}\")"
      ],
      "metadata": {
        "id": "ad4EVnpc5g0E"
      },
      "execution_count": null,
      "outputs": []
    },
    {
      "cell_type": "code",
      "source": [
        "#y['KNN100'] = y_pred"
      ],
      "metadata": {
        "id": "7r1ufmbS6gXO"
      },
      "execution_count": null,
      "outputs": []
    },
    {
      "cell_type": "code",
      "source": [
        "#y.to_csv('/content/drive/MyDrive/results.csv',index = True)"
      ],
      "metadata": {
        "id": "OiwOTQRb6w2G"
      },
      "execution_count": null,
      "outputs": []
    }
  ]
}