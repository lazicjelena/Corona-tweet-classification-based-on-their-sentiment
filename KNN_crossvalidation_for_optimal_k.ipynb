{
  "nbformat": 4,
  "nbformat_minor": 0,
  "metadata": {
    "colab": {
      "name": "KNN - crossvalidation for optimal k.ipynb",
      "provenance": [],
      "collapsed_sections": []
    },
    "kernelspec": {
      "name": "python3",
      "display_name": "Python 3"
    },
    "language_info": {
      "name": "python"
    }
  },
  "cells": [
    {
      "cell_type": "code",
      "source": [
        "import nltk                                \n",
        "import matplotlib.pyplot as plt          \n",
        "import pandas as pd\n",
        "import numpy as np\n",
        "import re\n",
        "from sklearn.metrics import confusion_matrix, classification_report\n",
        "from sklearn.neighbors import KNeighborsClassifier\n",
        "import random"
      ],
      "metadata": {
        "id": "5YAad9hcuVFN"
      },
      "execution_count": null,
      "outputs": []
    },
    {
      "cell_type": "code",
      "source": [
        "train_tweets = pd.read_csv('/content/drive/MyDrive/train_lsh.csv', encoding='latin-1')\n",
        "train_tweets = train_tweets.to_numpy()\n",
        "train_sentiments = np.concatenate(pd.read_csv('/content/drive/MyDrive/train_sentiments.csv', encoding='latin-1').to_numpy())\n",
        "\n",
        "train_sentiments  = train_sentiments[~np.isnan(train_tweets).any(axis=1)]\n",
        "train_tweets = train_tweets [~np.isnan(train_tweets).any(axis=1)]\n",
        "for i in range(0,train_tweets.shape[1]):\n",
        "    train_tweets[:,i] = (train_tweets[:,i] - np.nanmean(train_tweets[:,i]))/ np.nanvar(train_tweets[:,i])"
      ],
      "metadata": {
        "id": "Trb7uI6Bukvf"
      },
      "execution_count": null,
      "outputs": []
    },
    {
      "cell_type": "code",
      "source": [
        "test_tweets = pd.read_csv('/content/drive/MyDrive/test_lsh.csv', encoding='latin-1')\n",
        "test_tweets = test_tweets.to_numpy()\n",
        "test_sentiments = np.concatenate(pd.read_csv('/content/drive/MyDrive/test_sentiments.csv', encoding='latin-1').to_numpy())\n",
        "\n",
        "test_sentiments = test_sentiments[~np.isnan(test_tweets).any(axis=1)]\n",
        "test_tweets = test_tweets[~np.isnan(test_tweets).any(axis=1)]\n",
        "for i in range(0,test_tweets.shape[1]):\n",
        " test_tweets[:,i] = (test_tweets[:,i] - np.nanmean(test_tweets[:,i]))/ np.nanvar(test_tweets[:,i])\n"
      ],
      "metadata": {
        "id": "ByQ576J1ecmr"
      },
      "execution_count": null,
      "outputs": []
    },
    {
      "cell_type": "code",
      "source": [
        "def knn_classificator(x_train, y_train, x_test, y_test, k):\n",
        "  '''\n",
        "  Input:\n",
        "    x_train - train data\n",
        "    y_train - train labels\n",
        "    x_test - test data\n",
        "    y_test - test labels\n",
        "    k - k nearest neighbours\n",
        "  Output:\n",
        "    accuracy for train and test data in persentage\n",
        "  '''\n",
        "  knn = KNeighborsClassifier(n_neighbors = k, metric= 'cosine')\n",
        "  knn.fit(x_train, y_train)\n",
        "  y_pred_train = knn.predict(x_train)\n",
        "  y_pred_test = knn.predict(x_test)\n",
        "\n",
        "  return sum(y_pred_train == y_train)/len(y_train)*100,sum(y_pred_test == y_test)/len(y_test)*100"
      ],
      "metadata": {
        "id": "HXsTTtbqoQBZ"
      },
      "execution_count": null,
      "outputs": []
    },
    {
      "cell_type": "code",
      "source": [
        "def cross_validation(x, y, ind, k):\n",
        "  '''\n",
        "  Input:\n",
        "    x - data\n",
        "    y - labels\n",
        "    ind - indexes for separation data in five classes\n",
        "    k - number of k nearest neighbours for knn classifier\n",
        "  Output:\n",
        "    accuracy on train and accuracy on test data\n",
        "  '''\n",
        "  acc_train = []\n",
        "  acc_test = []\n",
        "  \n",
        "  for i in range(0,5):\n",
        "    acc = knn_classificator(x[ind!=i,:], y[ind!=i], x[ind==i,:], y[ind==i], k)\n",
        "    acc_train.append(acc[0])\n",
        "    acc_test.append(acc[1])\n",
        "    \n",
        "  return sum(acc_train)/5, sum(acc_test)/5"
      ],
      "metadata": {
        "id": "34Xom_BnpAD4"
      },
      "execution_count": null,
      "outputs": []
    },
    {
      "cell_type": "code",
      "source": [
        "def split_train_validation(num):\n",
        "  '''\n",
        "    Input:\n",
        "      num - number od elements of training set\n",
        "\n",
        "    Output:\n",
        "      ind - array of indexes for 0-5 classes\n",
        "  '''\n",
        "\n",
        "  ind = np.zeros(num)\n",
        "  l = int(len(ind)/5)\n",
        "  for i in range(1,5):\n",
        "    if i == 5:\n",
        "      ind[int(i*l):] = i\n",
        "    else:\n",
        "      ind[int(i*l):int((i+1)*l)] = i\n",
        "    \n",
        "  return ind"
      ],
      "metadata": {
        "id": "13ghLf8CviPn"
      },
      "execution_count": null,
      "outputs": []
    },
    {
      "cell_type": "code",
      "source": [
        "# main program\n",
        "acc_train = []\n",
        "acc_val = []\n",
        "k = [1,5,10,15,20,25,30]\n",
        "\n",
        "ind = split_train_validation(len(train_tweets))\n",
        "random.shuffle(ind)\n",
        "\n",
        "for i in range(0,len(k)):\n",
        "  acc = cross_validation(train_tweets, train_sentiments, ind, k[i])\n",
        "  acc_train.append(acc[0])\n",
        "  acc_val.append(acc[1])\n"
      ],
      "metadata": {
        "id": "8E9QIB_go-ch"
      },
      "execution_count": null,
      "outputs": []
    },
    {
      "cell_type": "code",
      "source": [
        "# plot the results\n",
        "plt.figure()\n",
        "plt.plot(k,acc_train)\n",
        "plt.plot(k,acc_val)\n",
        "plt.title('Tacnost KNN klasifikatora u zavisnosti od parametra k')\n",
        "plt.xlabel('k')\n",
        "plt.ylabel('tacnost')\n",
        "plt.legend(['trening skup','validacioni skup'])"
      ],
      "metadata": {
        "colab": {
          "base_uri": "https://localhost:8080/",
          "height": 312
        },
        "id": "YnAZ0dnx1va_",
        "outputId": "0c112b4b-6f53-4586-9d0e-1f4a19cc584e"
      },
      "execution_count": null,
      "outputs": [
        {
          "output_type": "execute_result",
          "data": {
            "text/plain": [
              "<matplotlib.legend.Legend at 0x7f5af5dcdd10>"
            ]
          },
          "metadata": {},
          "execution_count": 90
        },
        {
          "output_type": "display_data",
          "data": {
            "text/plain": [
              "<Figure size 432x288 with 1 Axes>"
            ],
            "image/png": "[encoded data removed]"
          },
          "metadata": {
            "needs_background": "light"
          }
        }
      ]
    }
  ]
}