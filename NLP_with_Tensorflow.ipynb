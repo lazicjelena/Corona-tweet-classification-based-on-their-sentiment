{
  "nbformat": 4,
  "nbformat_minor": 0,
  "metadata": {
    "colab": {
      "name": "NLP with Tensorflow.ipynb",
      "provenance": [],
      "collapsed_sections": []
    },
    "kernelspec": {
      "name": "python3",
      "display_name": "Python 3"
    },
    "language_info": {
      "name": "python"
    }
  },
  "cells": [
    {
      "cell_type": "code",
      "execution_count": null,
      "metadata": {
        "id": "_bqxBJfERDGD"
      },
      "outputs": [],
      "source": [
        "import nltk                         \n",
        "import pandas as pd\n",
        "import numpy as np\n",
        "import re\n",
        "from tensorflow.keras.preprocessing.text import Tokenizer\n",
        "from tensorflow.keras.preprocessing.sequence import pad_sequences\n",
        "import tensorflow as tf\n",
        "from sklearn.metrics import confusion_matrix, classification_report\n",
        "import io\n",
        "from keras.callbacks import EarlyStopping\n",
        "from sklearn.preprocessing import OneHotEncoder"
      ]
    },
    {
      "cell_type": "code",
      "source": [
        "train = pd.read_csv('/content/drive/MyDrive/train_token.csv', encoding='latin-1')\n",
        "y_train = train[\"Sentiment\"].map({\"Extremely Positive\":0, \"Positive\": 1,\"Neutral\": 2,\"Negative\": 3,\"Extremely Negative\": 4})\n",
        "y_train = y_train.values\n",
        "y_train = y_train[~train['TweetTokens'].isnull()]\n",
        "train = train[~train['TweetTokens'].isnull()]\n",
        "\n",
        "test = pd.read_csv('/content/drive/MyDrive/test_token.csv', encoding='latin-1')\n",
        "y_test = test[\"Sentiment\"].map({\"Extremely Positive\":0, \"Positive\": 1,\"Neutral\": 2,\"Negative\": 3,\"Extremely Negative\": 4})\n",
        "y_test = y_test.values\n",
        "y_test = y_test[~test['TweetTokens'].isnull()]\n",
        "test = test[~test['TweetTokens'].isnull()]"
      ],
      "metadata": {
        "id": "RSjNjclUl8jt"
      },
      "execution_count": null,
      "outputs": []
    },
    {
      "cell_type": "code",
      "source": [
        "def parse_data(data):\n",
        "\n",
        "  sentence = []\n",
        "  vocabulary = set()\n",
        "\n",
        "  for i in range(0,len(data)):\n",
        "    list_of_words = re.sub(\"[^\\w]\", \" \", data.iloc[i]['TweetTokens']).split()\n",
        "    sentence.append(list_of_words)\n",
        "    vocabulary = vocabulary.union(set(list_of_words))\n",
        "\n",
        "  return sentence, vocabulary"
      ],
      "metadata": {
        "id": "rihXHcISA8Mt"
      },
      "execution_count": null,
      "outputs": []
    },
    {
      "cell_type": "code",
      "source": [
        "def fit_tokenizer(sentences):\n",
        "    \"\"\"\n",
        "    Instantiates the Tokenizer class\n",
        "    Args:\n",
        "        sentences (list): lower-cased sentences without stopwords\n",
        "    Returns:\n",
        "        tokenizer (object): an instance of the Tokenizer class containing the word-index dictionary\n",
        "    \"\"\"\n",
        "    tokenizer = Tokenizer(oov_token = '<OOV>', num_words=10000)\n",
        "    tokenizer.fit_on_texts(sentences)\n",
        "\n",
        "    return tokenizer"
      ],
      "metadata": {
        "id": "ffnRP7HzB4BU"
      },
      "execution_count": null,
      "outputs": []
    },
    {
      "cell_type": "code",
      "source": [
        "def get_padded_sequences(tokenizer, sentences):\n",
        "    \"\"\"\n",
        "    Generates an array of token sequences and pads them to the same length\n",
        "    Args:\n",
        "        tokenizer (object): Tokenizer instance containing the word-index dictionary\n",
        "        sentences (list of string): list of sentences to tokenize and pad\n",
        "    Returns:\n",
        "        padded_sequences (array of int): tokenized sentences padded to the same length\n",
        "    \"\"\"\n",
        "    \n",
        "    sequences = tokenizer.texts_to_sequences(sentences)\n",
        "    padded_sequences = pad_sequences(sequences, padding = 'post', maxlen=39)\n",
        "    \n",
        "    return padded_sequences"
      ],
      "metadata": {
        "id": "HukS9iVjCNhf"
      },
      "execution_count": null,
      "outputs": []
    },
    {
      "cell_type": "code",
      "source": [
        "sentence_train, vocabulary_train = parse_data(train)"
      ],
      "metadata": {
        "id": "plTjuvD3BnUs"
      },
      "execution_count": null,
      "outputs": []
    },
    {
      "cell_type": "code",
      "source": [
        "tokenizer = fit_tokenizer(sentence_train)\n",
        "word_index = tokenizer.word_index"
      ],
      "metadata": {
        "id": "eyGHGGoOB_AO"
      },
      "execution_count": null,
      "outputs": []
    },
    {
      "cell_type": "code",
      "source": [
        "padded_sequence_train = get_padded_sequences(tokenizer, sentence_train)"
      ],
      "metadata": {
        "id": "vRCNZ-FCCzAE"
      },
      "execution_count": null,
      "outputs": []
    },
    {
      "cell_type": "code",
      "source": [
        "train.iloc[5]['TweetTokens']"
      ],
      "metadata": {
        "id": "Ccz4WNHvDQWv",
        "colab": {
          "base_uri": "https://localhost:8080/",
          "height": 35
        },
        "outputId": "8e6331fe-fa85-4946-971c-bd57112a5192"
      },
      "execution_count": null,
      "outputs": [
        {
          "output_type": "execute_result",
          "data": {
            "text/plain": [
              "\"['cashier', 'groceri', 'store', 'share', 'insight', 'covid', 'prove', 'credibl', 'comment', 'civic', 'class', 'know', 'talk']\""
            ],
            "application/vnd.google.colaboratory.intrinsic+json": {
              "type": "string"
            }
          },
          "metadata": {},
          "execution_count": 10
        }
      ]
    },
    {
      "cell_type": "code",
      "source": [
        "padded_sequence_train[5]"
      ],
      "metadata": {
        "colab": {
          "base_uri": "https://localhost:8080/"
        },
        "id": "7U_kbQnQrYWT",
        "outputId": "e3d6d704-9cd2-4132-d553-9b6c76eb3063"
      },
      "execution_count": null,
      "outputs": [
        {
          "output_type": "execute_result",
          "data": {
            "text/plain": [
              "array([ 548,    7,    4,  157,  506,    2, 1404, 4581, 1248, 5959,  959,\n",
              "         65,  320,    0,    0,    0,    0,    0,    0,    0,    0,    0,\n",
              "          0,    0,    0,    0,    0,    0,    0,    0,    0,    0,    0,\n",
              "          0,    0,    0,    0,    0,    0], dtype=int32)"
            ]
          },
          "metadata": {},
          "execution_count": 109
        }
      ]
    },
    {
      "cell_type": "code",
      "source": [
        "sentence_test, vocabulary_test = parse_data(test)\n",
        "padded_sequence_test = get_padded_sequences(tokenizer, sentence_test)"
      ],
      "metadata": {
        "id": "BBqAjiznjtou"
      },
      "execution_count": null,
      "outputs": []
    },
    {
      "cell_type": "code",
      "source": [
        "def y_one_hot(y):\n",
        "\n",
        "  onehot_encoder = OneHotEncoder(sparse=False)\n",
        "  y_onehot = y.reshape(len(y), 1)\n",
        "  y_onehot = onehot_encoder.fit_transform(y_onehot)\n",
        "\n",
        "  return y_onehot"
      ],
      "metadata": {
        "id": "Zs2-lsP4q7Za"
      },
      "execution_count": null,
      "outputs": []
    },
    {
      "cell_type": "code",
      "source": [
        "y_train_onehot = y_one_hot(y_train)\n",
        "y_test_onehot = y_one_hot(y_test)"
      ],
      "metadata": {
        "id": "IzMStXDYoTE1"
      },
      "execution_count": null,
      "outputs": []
    },
    {
      "cell_type": "code",
      "source": [
        "#Adding an early stopping\n",
        "es = EarlyStopping(monitor='val_accuracy', mode='max', patience=3, restore_best_weights=True)"
      ],
      "metadata": {
        "id": "udyBpFaUyJRR"
      },
      "execution_count": null,
      "outputs": []
    },
    {
      "cell_type": "code",
      "source": [
        "# Parameters\n",
        "vocab_size = len(vocabulary_train)\n",
        "max_length = 39\n",
        "embedding_dim = 100\n",
        "oov_tok = \"<OOV>\"\n",
        "\n",
        "# Build the model\n",
        "model = tf.keras.Sequential([\n",
        "    tf.keras.layers.Embedding(vocab_size, embedding_dim, input_length=max_length),\n",
        "\n",
        "    # Global Average Pooling\n",
        "    #tf.keras.layers.GlobalAveragePooling1D(),\n",
        "\n",
        "    # Conv1D\n",
        "    #tf.keras.layers.Conv1D(128,5),\n",
        "    #tf.keras.layers.Flatten(),\n",
        "\n",
        "    # LSTM\n",
        "    #tf.keras.layers.LSTM(128),\n",
        "\n",
        "    # Bidirectional LSTM\n",
        "    #tf.keras.layers.Bidirectional(tf.keras.layers.LSTM(128)),\n",
        "\n",
        "    # GRU\n",
        "    #tf.keras.layers.GRU(32),\n",
        "\n",
        "    # Bidirectional LSTM\n",
        "    tf.keras.layers.Bidirectional(tf.keras.layers.GRU(128)),\n",
        "\n",
        "    tf.keras.layers.Dropout(0.2),\n",
        "    tf.keras.layers.Dense(6, activation='relu'),\n",
        "    tf.keras.layers.Dense(5, activation='softmax')\n",
        "])\n",
        "\n",
        "# Setup the training parameters\n",
        "model.compile(loss='categorical_crossentropy',optimizer='Adam',metrics=['accuracy'])\n",
        "\n",
        "# Print the model summary\n",
        "model.summary()"
      ],
      "metadata": {
        "colab": {
          "base_uri": "https://localhost:8080/"
        },
        "id": "oAAPkDBLkMLw",
        "outputId": "f6a239d4-49fa-42f1-faff-bfb75a769ad7"
      },
      "execution_count": null,
      "outputs": [
        {
          "output_type": "stream",
          "name": "stdout",
          "text": [
            "Model: \"sequential_30\"\n",
            "_________________________________________________________________\n",
            " Layer (type)                Output Shape              Param #   \n",
            "=================================================================\n",
            " embedding_34 (Embedding)    (None, 39, 100)           3216100   \n",
            "                                                                 \n",
            " bidirectional_5 (Bidirectio  (None, 256)              176640    \n",
            " nal)                                                            \n",
            "                                                                 \n",
            " dropout_29 (Dropout)        (None, 256)               0         \n",
            "                                                                 \n",
            " dense_55 (Dense)            (None, 6)                 1542      \n",
            "                                                                 \n",
            " dense_56 (Dense)            (None, 5)                 35        \n",
            "                                                                 \n",
            "=================================================================\n",
            "Total params: 3,394,317\n",
            "Trainable params: 3,394,317\n",
            "Non-trainable params: 0\n",
            "_________________________________________________________________\n"
          ]
        }
      ]
    },
    {
      "cell_type": "code",
      "source": [
        "num_epochs = 5\n",
        "# Train the model\n",
        "model.fit(padded_sequence_train, y_train_onehot, epochs=num_epochs, validation_data=(padded_sequence_test, y_test_onehot), callbacks=[es])"
      ],
      "metadata": {
        "colab": {
          "base_uri": "https://localhost:8080/"
        },
        "id": "52qJ8vQDmBgZ",
        "outputId": "6d083550-4661-46be-ed81-323b69b925dc"
      },
      "execution_count": null,
      "outputs": [
        {
          "output_type": "stream",
          "name": "stdout",
          "text": [
            "Epoch 1/5\n",
            "1285/1285 [==============================] - 168s 126ms/step - loss: 1.0828 - accuracy: 0.5520 - val_loss: 0.8813 - val_accuracy: 0.6646\n",
            "Epoch 2/5\n",
            "1285/1285 [==============================] - 171s 133ms/step - loss: 0.7173 - accuracy: 0.7391 - val_loss: 0.8340 - val_accuracy: 0.6896\n",
            "Epoch 3/5\n",
            "1285/1285 [==============================] - 170s 132ms/step - loss: 0.6264 - accuracy: 0.7779 - val_loss: 0.8774 - val_accuracy: 0.6880\n",
            "Epoch 4/5\n",
            "1285/1285 [==============================] - 157s 122ms/step - loss: 0.5490 - accuracy: 0.8108 - val_loss: 0.8980 - val_accuracy: 0.6891\n",
            "Epoch 5/5\n",
            "1285/1285 [==============================] - 168s 131ms/step - loss: 0.4676 - accuracy: 0.8417 - val_loss: 1.0031 - val_accuracy: 0.6643\n"
          ]
        },
        {
          "output_type": "execute_result",
          "data": {
            "text/plain": [
              "<keras.callbacks.History at 0x7f05f78c97d0>"
            ]
          },
          "metadata": {},
          "execution_count": 118
        }
      ]
    },
    {
      "cell_type": "code",
      "source": [
        "# prediction\n",
        "y_pred_test = model.predict(padded_sequence_test)\n",
        "y_pred_test = np.argmax(y_pred_test,axis=1)\n",
        "\n",
        "y_pred_train = model.predict(padded_sequence_train)\n",
        "y_pred_train = np.argmax(y_pred_train,axis=1)"
      ],
      "metadata": {
        "id": "Zr_eNZNXn2eF"
      },
      "execution_count": null,
      "outputs": []
    },
    {
      "cell_type": "code",
      "source": [
        "m_train = confusion_matrix(y_train,y_pred_train)\n",
        "print('Tacnost na trening podacima: ')\n",
        "print(sum(m_train[i][i] for i in range(len(m_train))) / sum(sum(m_train))*100)\n",
        "\n",
        "m = confusion_matrix(y_test,y_pred_test)\n",
        "print('Tacnost na test podacima: ')\n",
        "print(sum(m[i][i] for i in range(len(m))) / sum(sum(m))*100)\n",
        "print('Konfuziona matrica na test podacima: ')\n",
        "m"
      ],
      "metadata": {
        "colab": {
          "base_uri": "https://localhost:8080/"
        },
        "id": "feno1Rhbn5l5",
        "outputId": "10c7adf3-0cbb-41cf-9b56-8f6d406b86eb"
      },
      "execution_count": null,
      "outputs": [
        {
          "output_type": "stream",
          "name": "stdout",
          "text": [
            "Tacnost na trening podacima: \n",
            "80.09922420292322\n",
            "Tacnost na test podacima: \n",
            "68.95915678524375\n",
            "Konfuziona matrica na test podacima: \n"
          ]
        },
        {
          "output_type": "execute_result",
          "data": {
            "text/plain": [
              "array([[410, 160,   1,  27,   1],\n",
              "       [ 86, 689,  41, 114,  17],\n",
              "       [  4,  81, 443,  78,  10],\n",
              "       [ 10, 192,  55, 646, 138],\n",
              "       [  0,  17,   6, 140, 429]])"
            ]
          },
          "metadata": {},
          "execution_count": 120
        }
      ]
    },
    {
      "cell_type": "code",
      "source": [
        "print(classification_report(y_test,y_pred_test))"
      ],
      "metadata": {
        "id": "hZE-CimIN9Ap",
        "colab": {
          "base_uri": "https://localhost:8080/"
        },
        "outputId": "7a7f6b40-a69a-41be-bfc1-aabfbace13d9"
      },
      "execution_count": null,
      "outputs": [
        {
          "output_type": "stream",
          "name": "stdout",
          "text": [
            "              precision    recall  f1-score   support\n",
            "\n",
            "           0       0.80      0.69      0.74       599\n",
            "           1       0.64      0.72      0.68       947\n",
            "           2       0.78      0.73      0.76       616\n",
            "           3       0.65      0.69      0.67      1041\n",
            "           4       0.77      0.69      0.73       592\n",
            "\n",
            "    accuracy                           0.70      3795\n",
            "   macro avg       0.73      0.71      0.71      3795\n",
            "weighted avg       0.71      0.70      0.71      3795\n",
            "\n"
          ]
        }
      ]
    },
    {
      "cell_type": "code",
      "source": [
        "missclassified = test[y_test!=y_pred_test]"
      ],
      "metadata": {
        "id": "qn4B8uICO4zU"
      },
      "execution_count": null,
      "outputs": []
    },
    {
      "cell_type": "code",
      "source": [
        "missclassified.to_csv('/content/drive/MyDrive/missclassified.csv',index = False)"
      ],
      "metadata": {
        "id": "CH-KQeE-QLb2"
      },
      "execution_count": null,
      "outputs": []
    },
    {
      "cell_type": "code",
      "source": [
        "#indeks = 20\n",
        "\n",
        "#print(missclassified.iloc[indeks]['OriginalTweet'])\n",
        "#print(\"\")\n",
        "\n",
        "#print(f\"Sentiment {missclassified.iloc[indeks]['Sentiment']}\")\n",
        "#print(f\"Prediction {y_pred[missclassified.iloc[indeks]['Unnamed: 0']]}\")"
      ],
      "metadata": {
        "id": "xE1TLhChO8C2"
      },
      "execution_count": null,
      "outputs": []
    },
    {
      "cell_type": "code",
      "source": [
        "#embedding_layer = model.layers[0]\n",
        "#embedding_weights = embedding_layer.get_weights()[0]\n",
        "#reverse_word_index = tokenizer.index_word"
      ],
      "metadata": {
        "id": "_IEjA7hVhRgq"
      },
      "execution_count": null,
      "outputs": []
    },
    {
      "cell_type": "code",
      "source": [
        "#out_v = io.open('/content/drive/MyDrive/vecs.tsv', 'w', encoding='utf-8')\n",
        "#out_m = io.open('/content/drive/MyDrive/meta.tsv', 'w', encoding='utf-8')\n",
        "\n",
        "#for word_num in range(1, vocab_size):\n",
        "#  word_name = reverse_word_index[word_num]\n",
        "#  word_embedding = embedding_weights[word_num]\n",
        "#  out_m.write(word_name + \"\\n\")\n",
        "#  out_v.write('\\t'.join([str(x) for x in word_embedding]) + \"\\n\")\n",
        "\n",
        "#out_v.close()\n",
        "#out_m.close()"
      ],
      "metadata": {
        "id": "foYZEqu5hi3P"
      },
      "execution_count": null,
      "outputs": []
    }
  ]
}